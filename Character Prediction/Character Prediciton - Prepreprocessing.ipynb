{
 "cells": [
  {
   "cell_type": "markdown",
   "metadata": {},
   "source": [
    "# Character Prediction \n",
    "\n",
    "## Initial Preprocessing"
   ]
  },
  {
   "cell_type": "code",
   "execution_count": 1,
   "metadata": {},
   "outputs": [],
   "source": [
    "# Package Imports\n",
    "import pandas as pd\n",
    "from sklearn.model_selection import train_test_split as TTS"
   ]
  },
  {
   "cell_type": "code",
   "execution_count": 2,
   "metadata": {},
   "outputs": [
    {
     "data": {
      "text/html": [
       "<div>\n",
       "<style scoped>\n",
       "    .dataframe tbody tr th:only-of-type {\n",
       "        vertical-align: middle;\n",
       "    }\n",
       "\n",
       "    .dataframe tbody tr th {\n",
       "        vertical-align: top;\n",
       "    }\n",
       "\n",
       "    .dataframe thead th {\n",
       "        text-align: right;\n",
       "    }\n",
       "</style>\n",
       "<table border=\"1\" class=\"dataframe\">\n",
       "  <thead>\n",
       "    <tr style=\"text-align: right;\">\n",
       "      <th></th>\n",
       "      <th>Unnamed: 0</th>\n",
       "      <th>char</th>\n",
       "      <th>dialog</th>\n",
       "      <th>movie</th>\n",
       "    </tr>\n",
       "  </thead>\n",
       "  <tbody>\n",
       "    <tr>\n",
       "      <th>0</th>\n",
       "      <td>0</td>\n",
       "      <td>DEAGOL</td>\n",
       "      <td>Oh Smeagol Ive got one! , Ive got a fish Smeag...</td>\n",
       "      <td>The Return of the King</td>\n",
       "    </tr>\n",
       "    <tr>\n",
       "      <th>1</th>\n",
       "      <td>1</td>\n",
       "      <td>SMEAGOL</td>\n",
       "      <td>Pull it in! Go on, go on, go on, pull it in!</td>\n",
       "      <td>The Return of the King</td>\n",
       "    </tr>\n",
       "    <tr>\n",
       "      <th>2</th>\n",
       "      <td>2</td>\n",
       "      <td>DEAGOL</td>\n",
       "      <td>Arrghh!</td>\n",
       "      <td>The Return of the King</td>\n",
       "    </tr>\n",
       "    <tr>\n",
       "      <th>3</th>\n",
       "      <td>3</td>\n",
       "      <td>SMEAGOL</td>\n",
       "      <td>Deagol!</td>\n",
       "      <td>The Return of the King</td>\n",
       "    </tr>\n",
       "    <tr>\n",
       "      <th>4</th>\n",
       "      <td>4</td>\n",
       "      <td>SMEAGOL</td>\n",
       "      <td>Deagol!</td>\n",
       "      <td>The Return of the King</td>\n",
       "    </tr>\n",
       "  </tbody>\n",
       "</table>\n",
       "</div>"
      ],
      "text/plain": [
       "   Unnamed: 0     char                                             dialog  \\\n",
       "0           0   DEAGOL  Oh Smeagol Ive got one! , Ive got a fish Smeag...   \n",
       "1           1  SMEAGOL     Pull it in! Go on, go on, go on, pull it in!     \n",
       "2           2   DEAGOL                                           Arrghh!    \n",
       "3           3  SMEAGOL                                          Deagol!     \n",
       "4           4  SMEAGOL                                          Deagol!     \n",
       "\n",
       "                     movie  \n",
       "0  The Return of the King   \n",
       "1  The Return of the King   \n",
       "2  The Return of the King   \n",
       "3  The Return of the King   \n",
       "4  The Return of the King   "
      ]
     },
     "execution_count": 2,
     "metadata": {},
     "output_type": "execute_result"
    }
   ],
   "source": [
    "# File Import\n",
    "df = pd.read_csv(\"lotr_scripts.csv\")\n",
    "df.head()"
   ]
  },
  {
   "cell_type": "code",
   "execution_count": 3,
   "metadata": {},
   "outputs": [
    {
     "name": "stdout",
     "output_type": "stream",
     "text": [
      "<class 'pandas.core.frame.DataFrame'>\n",
      "RangeIndex: 2390 entries, 0 to 2389\n",
      "Data columns (total 4 columns):\n",
      " #   Column      Non-Null Count  Dtype \n",
      "---  ------      --------------  ----- \n",
      " 0   Unnamed: 0  2390 non-null   int64 \n",
      " 1   char        2390 non-null   object\n",
      " 2   dialog      2389 non-null   object\n",
      " 3   movie       2390 non-null   object\n",
      "dtypes: int64(1), object(3)\n",
      "memory usage: 74.8+ KB\n"
     ]
    }
   ],
   "source": [
    "df.info()"
   ]
  },
  {
   "cell_type": "code",
   "execution_count": 4,
   "metadata": {},
   "outputs": [
    {
     "data": {
      "text/plain": [
       "array(['DEAGOL', 'SMEAGOL', '(GOLLUM', 'FRODO', 'MERRY', 'GIMLI',\n",
       "       'GOLLUM', 'SAM', 'GANDALF', 'ARAGORN', 'PIPPIN', 'HOBBIT', 'ROSIE',\n",
       "       'BILBO', 'TREEBEARD', 'SARUMAN', 'THEODEN', 'GALADRIL', 'ELROND',\n",
       "       'GRIMA', 'FRODO VOICE OVER', 'WITCH KING', 'EOWYN', 'FARAMIR',\n",
       "       'ORC', '\\xa0GANDALF', 'SOLDIERS ON GATE', 'GOTHMOG', 'GENERAL',\n",
       "       'CAPTAIN', 'SOLDIER', 'MOUTH OF SAURON', 'EOMER', 'ARMY', 'BOSON',\n",
       "       'MERCENARY', 'EOWYN/MERRY', 'DENETHOR', 'ROHIRRIM',\n",
       "       'GALADRIEL VOICEOVER', 'LEGOLAS', 'GALADRIEL', 'KING OF THE DEAD',\n",
       "       'GRIMBOLD', 'IROLAS', 'ORCS', 'GAMLING', 'MADRIL', 'DAMROD',\n",
       "       'SOLDIERS', 'SOLDIERS IN MINAS TIRITH', 'GANDALF VOICEOVER',\n",
       "       'SOLDIER 1', 'SOLDIER 2', 'WOMAN', 'HALDIR', 'SAM VOICEOVER',\n",
       "       'OLD MAN', 'BOROMIR', 'CROWD', 'ARWEN', 'ELROND VOICEOVER',\n",
       "       'ARWEN VOICEOVER', 'ARAGORN ', 'HAMA', 'SHARKU', 'PEOPLE', 'LADY',\n",
       "       'FREDA', 'MORWEN', 'EYE OF SAURON', 'ROHAN STABLEMAN', 'GORBAG',\n",
       "       'ARGORN', 'GANDALF VOICE OVER', 'BOROMIR ', 'UGLUK', 'SHAGRAT',\n",
       "       'SARUMAN VOICE OVER', 'SARUMAN VOICE OVER ', 'FRODO ', 'URUK-HAI',\n",
       "       'SNAGA', 'GRISHNAKH', 'MERRY and PIPPIN', 'WILDMAN', 'STRIDER',\n",
       "       'GALADRIEL VOICE-OVER', 'EOTHAIN', 'ROHAN HORSEMAN',\n",
       "       'SAURON VOICE', 'SAM ', 'FRODO VOICE', 'GALADRIEL VOICE OVER',\n",
       "       'FARMER MAGGOT', 'WHITE WIZARD', 'MERRY AND PIPPIN', 'GAFFER',\n",
       "       'NOAKES', 'SANDYMAN', 'FIGWIT', 'GENERAL SHOUT', 'GRISHNAK',\n",
       "       'URUK HAI', 'SARUMAN VOICEOVER', 'MRS BRACEGIRDLE',\n",
       "       'BILBO VOICEOVER', 'PROUDFOOT HOBBIT', 'GATEKEEPER', 'GATEKEEPR',\n",
       "       'MAN', 'CHILDREN HOBBITS', 'BARLIMAN', 'RING', 'MEN', 'VOICE',\n",
       "       'SAURON', 'GAN DALF'], dtype=object)"
      ]
     },
     "execution_count": 4,
     "metadata": {},
     "output_type": "execute_result"
    }
   ],
   "source": [
    "# Checking inconcistencies with naming\n",
    "df.char.unique()"
   ]
  },
  {
   "cell_type": "code",
   "execution_count": 5,
   "metadata": {},
   "outputs": [
    {
     "data": {
      "text/plain": [
       "array(['DEAGOL', 'GOLLUM', 'FRODO', 'MERRY', 'GIMLI', 'SAM', 'GANDALF',\n",
       "       'ARAGORN', 'PIPPIN', 'HOBBIT', 'ROSIE', 'BILBO', 'TREEBEARD',\n",
       "       'SARUMAN', 'THEODEN', 'GALADRIEL', 'ELROND', 'GRIMA', 'WITCH KING',\n",
       "       'EOWYN', 'FARAMIR', 'ORC', 'SOLDIERS ON GATE', 'GOTHMOG',\n",
       "       'GENERAL', 'CAPTAIN', 'SOLDIER', 'SAURON', 'EOMER', 'ARMY',\n",
       "       'BOSON', 'MERCENARY', 'EOWYN/MERRY', 'DENETHOR', 'ROHIRRIM',\n",
       "       'LEGOLAS', 'KING OF THE DEAD', 'GRIMBOLD', 'IROLAS', 'ORCS',\n",
       "       'GAMLING', 'MADRIL', 'DAMROD', 'SOLDIERS',\n",
       "       'SOLDIERS IN MINAS TIRITH', 'SOLDIER 1', 'SOLDIER 2', 'WOMAN',\n",
       "       'HALDIR', 'OLD MAN', 'BOROMIR', 'CROWD', 'ARWEN', 'HAMA', 'SHARKU',\n",
       "       'PEOPLE', 'LADY', 'FREDA', 'MORWEN', 'EYE OF SAURON',\n",
       "       'ROHAN STABLEMAN', 'GORBAG', 'BOROMIR ', 'UGLUK', 'SHAGRAT',\n",
       "       'FRODO ', 'URUK-HAI', 'SNAGA', 'GRISHNAKH', 'MERRY and PIPPIN',\n",
       "       'WILDMAN', 'STRIDER', 'EOTHAIN', 'ROHAN HORSEMAN', 'FARMER MAGGOT',\n",
       "       'WHITE WIZARD', 'MERRY AND PIPPIN', 'GAFFER', 'NOAKES', 'SANDYMAN',\n",
       "       'FIGWIT', 'GENERAL SHOUT', 'GRISHNAK', 'URUK HAI',\n",
       "       'MRS BRACEGIRDLE', 'PROUDFOOT HOBBIT', 'GATEKEEPER', 'MAN',\n",
       "       'CHILDREN HOBBITS', 'BARLIMAN', 'RING', 'MEN', 'VOICE'],\n",
       "      dtype=object)"
      ]
     },
     "execution_count": 5,
     "metadata": {},
     "output_type": "execute_result"
    }
   ],
   "source": [
    "# Overwriting name inconcistencies in file\n",
    "flaws = list([\"SMEAGOL\", \"(GOLLUM\", \"GALADRIL\", \"FRODO VOICE OVER\", \"\\xa0GANDALF\", \"MOUTH OF SAURON\", \"GALADRIEL VOICEOVER\", \n",
    "              \"GANDALF VOICEOVER\", \"SAM VOICEOVER\", \"ELROND VOICEOVER\", \"ARWEN VOICEOVER\", \"ARAGORN \", \"ARGORN\", \"GANDALF VOICE OVER\", \n",
    "              \"SARUMAN VOICE OVER\", \"SARUMAN VOICE OVER \", \"URUK-HAI\" \"FRODO \", \"GALADRIEL VOICE-OVER\", \"SAURON VOICE\", \"SAM \", \n",
    "              \"FRODO VOICE\", \"GALADRIEL VOICE OVER\", \"SARUMAN VOICEOVER\", \"BILBO VOICEOVER\", \"GATEKEEPR\", \"GAN DALF\"])\n",
    "\n",
    "correct = list([\"GOLLUM\", \"GOLLUM\", \"GALADRIEL\", \"FRODO\", \"GANDALF\",\"SAURON\", \"GALADRIEL\", \"GANDALF\", \"SAM\", \"ELROND\", \"ARWEN\", \"ARAGORN\", \n",
    "                \"ARAGORN\", \"GANDALF\", \"SARUMAN\", \"SARUMAN\", \"URUK HAI\", \"FRODO\", \"GALADRIEL\", \"SAURON\", \"SAM\", \"FRODO\", \"GALADRIEL\", \n",
    "                \"SARUMAN\", \"BILBO\", \"GATEKEEPER\", \"GANDALF\"])\n",
    "\n",
    "for i in range(len(flaws)):\n",
    "    df.loc[df[\"char\"] == flaws[i], \"char\"] = correct[i]\n",
    "df.char.unique()"
   ]
  },
  {
   "cell_type": "code",
   "execution_count": 6,
   "metadata": {},
   "outputs": [
    {
     "data": {
      "text/html": [
       "<div>\n",
       "<style scoped>\n",
       "    .dataframe tbody tr th:only-of-type {\n",
       "        vertical-align: middle;\n",
       "    }\n",
       "\n",
       "    .dataframe tbody tr th {\n",
       "        vertical-align: top;\n",
       "    }\n",
       "\n",
       "    .dataframe thead th {\n",
       "        text-align: right;\n",
       "    }\n",
       "</style>\n",
       "<table border=\"1\" class=\"dataframe\">\n",
       "  <thead>\n",
       "    <tr style=\"text-align: right;\">\n",
       "      <th></th>\n",
       "      <th>char</th>\n",
       "      <th>dialog</th>\n",
       "    </tr>\n",
       "  </thead>\n",
       "  <tbody>\n",
       "    <tr>\n",
       "      <th>0</th>\n",
       "      <td>DEAGOL</td>\n",
       "      <td>Oh Smeagol Ive got one! , Ive got a fish Smeag...</td>\n",
       "    </tr>\n",
       "    <tr>\n",
       "      <th>1</th>\n",
       "      <td>GOLLUM</td>\n",
       "      <td>Pull it in! Go on, go on, go on, pull it in!</td>\n",
       "    </tr>\n",
       "    <tr>\n",
       "      <th>2</th>\n",
       "      <td>DEAGOL</td>\n",
       "      <td>Arrghh!</td>\n",
       "    </tr>\n",
       "    <tr>\n",
       "      <th>3</th>\n",
       "      <td>GOLLUM</td>\n",
       "      <td>Deagol!</td>\n",
       "    </tr>\n",
       "    <tr>\n",
       "      <th>4</th>\n",
       "      <td>GOLLUM</td>\n",
       "      <td>Deagol!</td>\n",
       "    </tr>\n",
       "  </tbody>\n",
       "</table>\n",
       "</div>"
      ],
      "text/plain": [
       "     char                                             dialog\n",
       "0  DEAGOL  Oh Smeagol Ive got one! , Ive got a fish Smeag...\n",
       "1  GOLLUM     Pull it in! Go on, go on, go on, pull it in!  \n",
       "2  DEAGOL                                           Arrghh! \n",
       "3  GOLLUM                                          Deagol!  \n",
       "4  GOLLUM                                          Deagol!  "
      ]
     },
     "execution_count": 6,
     "metadata": {},
     "output_type": "execute_result"
    }
   ],
   "source": [
    "# Dropping na rows and unnessecary columns\n",
    "df = df.dropna(axis=0)\n",
    "df = df.drop([\"Unnamed: 0\", \"movie\"], axis=1)\n",
    "df.head()"
   ]
  },
  {
   "cell_type": "code",
   "execution_count": 7,
   "metadata": {},
   "outputs": [],
   "source": [
    "# Splitting dataset\n",
    "train_df, test_df = TTS(df, test_size=0.3, random_state=42)\n",
    "val_df, test_df = TTS(test_df, test_size=0.5, random_state=42)\n",
    "train_df.reset_index(drop=True, inplace=True)\n",
    "val_df.reset_index(drop=True, inplace=True)\n",
    "test_df.reset_index(drop=True, inplace=True)"
   ]
  },
  {
   "cell_type": "code",
   "execution_count": 8,
   "metadata": {},
   "outputs": [],
   "source": [
    "train_df.to_csv('train_df.csv', index=False)\n",
    "val_df.to_csv('val_df.csv', index=False)\n",
    "test_df.to_csv('test_df.csv', index=False)"
   ]
  }
 ],
 "metadata": {
  "kernelspec": {
   "display_name": "base",
   "language": "python",
   "name": "python3"
  },
  "language_info": {
   "codemirror_mode": {
    "name": "ipython",
    "version": 3
   },
   "file_extension": ".py",
   "mimetype": "text/x-python",
   "name": "python",
   "nbconvert_exporter": "python",
   "pygments_lexer": "ipython3",
   "version": "3.11.5"
  }
 },
 "nbformat": 4,
 "nbformat_minor": 2
}
